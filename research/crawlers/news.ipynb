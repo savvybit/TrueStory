{
 "cells": [
  {
   "cell_type": "code",
   "execution_count": 7,
   "metadata": {},
   "outputs": [
    {
     "name": "stdout",
     "output_type": "stream",
     "text": [
      "U.S. trade with Britain will rise 'very substantially' after Brexit, President Donald Trump has said.\n",
      "Speaking at the White House today Trump signalled Washington welcomed a new trade agreement with Britain and said 'we are agreeing to move forward'.\n",
      "His comments will be seen as a boost for Brexiteer hopes that Britain's departure from the EU will enable successful free trade deals around the world.\n",
      "The President had previously warned that Theresa May's plans for close alignment with Brussels could 'kill' the prospect of a transatlantic deal.\n",
      "U.S. trade with Britain will rise 'very substantially' after Brexit , President Donald Trump said at a press conference at the White House today (pictured)\n",
      "'We're agreeing to move forward and preserve our trade agreement,' Trump said in Washington today.\n",
      "'You know all of the situation with respect to Brexit and the complexity and the problems, but we have a very good trading relationship with the UK and that's just been strengthened.\n",
      "'With the UK we're continuing our trade and we're going to be increasing it very substantially as time goes by.\n",
      "'We expect that the UK will be very substantially increased as it relates to trade with the United States. The relationship there also is very good,' he said.\n",
      "Washington's ambassador to Britain, Woody Johnson, backed up the President's comments saying a new deal would 'increase our trade substantially'.\n",
      "'It will be great for jobs and prosperity on both sides of the Atlantic,' he said.\n",
      "International Trade Secretary Liam Fox said Trump had made clear there was a 'special trade relationship and real ambition on both sides of the Atlantic to enhance this,' according to a CNN reporter at the White House press conference.\n",
      "Yesterday the UK and Washington signed a Mutual Recognition Agreement to preserve £12.8bn worth of trade, replacing the U.S. deal with Brussels.\n",
      "'The UK and the US are the strongest of trading partners and this agreement will allow British and American businesses to keep trading as freely as they do today, without additional bureaucracy,' said Mr Fox.\n",
      "Good Morning Britain host Piers Morgan also welcomed Trump's words, saying that if the President delivered on the promise 'this is clearly very good news'.\n",
      "Washington's ambassador in Britain Woody Johnson welcomed the news saying it would be 'great for jobs and prosperity on both sides of the Atlantic'\n",
      "In 2016 President Barack Obama, pictured in London in April that year, warned Britain would be at the 'back of the queue' for a trade deal\n",
      "Brexiteers have long hoped that Britain's departure would allow for beneficial trade deals unencumbered by EU rules.\n",
      "But Trump's America First agenda has seen him hike tariffs and tear up international agreements.\n",
      "Speaking about China in the same press conference today he said: 'I happen to like tariffs'.\n",
      "After Mrs May unveiled her Brexit withdrawal agreement last year Trump warned the PM to 'do something' about the trading terms.\n",
      "'Right now, if you look at the deal, they may not be able to trade with us. And that wouldn't be a good thing,' he said last November.\n",
      "In July he said her Brexit plan could 'kill' any UK-US trade deal because Britain would remain so closely aligned to the European Union.\n",
      "Trump's predecessor, former President Barack Obama, had famously warned a post-Brexit Britain would be at the 'back of the queue' for a trade deal with Washington.\n",
      "Last week Liam Fox's trade department admitted that the 40 free trade deals the minister promised to have ready by Brexit day are 'unlikely' to materialise.\n"
     ]
    }
   ],
   "source": [
    "from newsplease import NewsPlease\n",
    "article = NewsPlease.from_url('https://dailymail.co.uk/news/article-6709529/Donald-Trump-says-trade-Britain-increase-substantially.html')\n",
    "print(article.text)"
   ]
  },
  {
   "cell_type": "code",
   "execution_count": 25,
   "metadata": {},
   "outputs": [
    {
     "name": "stdout",
     "output_type": "stream",
     "text": [
      "U.S. trade with Britain will rise 'very substantially' after Brexit, President Donald Trump has said.\n",
      "\n",
      "Speaking at the White House today Trump signalled Washington welcomed a new trade agreement with Britain and said 'we are agreeing to move forward'.\n",
      "\n",
      "His comments will be seen as a boost for Brexiteer hopes that Britain's departure from the EU will enable successful free trade deals around the world.\n",
      "\n",
      "The President had previously warned that Theresa May's plans for close alignment with Brussels could 'kill' the prospect of a transatlantic deal.\n",
      "\n",
      "U.S. trade with Britain will rise 'very substantially' after Brexit , President Donald Trump said at a press conference at the White House today (pictured)\n",
      "\n",
      "'We're agreeing to move forward and preserve our trade agreement,' Trump said in Washington today.\n",
      "\n",
      "'You know all of the situation with respect to Brexit and the complexity and the problems, but we have a very good trading relationship with the UK and that's just been strengthened.\n",
      "\n",
      "'With the UK we're continuing our trade and we're going to be increasing it very substantially as time goes by.\n",
      "\n",
      "'We expect that the UK will be very substantially increased as it relates to trade with the United States. The relationship there also is very good,' he said.\n",
      "\n",
      "Washington's ambassador to Britain, Woody Johnson, backed up the President's comments saying a new deal would 'increase our trade substantially'.\n",
      "\n",
      "'It will be great for jobs and prosperity on both sides of the Atlantic,' he said.\n",
      "\n",
      "International Trade Secretary Liam Fox said Trump had made clear there was a 'special trade relationship and real ambition on both sides of the Atlantic to enhance this,' according to a CNN reporter at the White House press conference.\n",
      "\n",
      "Yesterday the UK and Washington signed a Mutual Recognition Agreement to preserve £12.8bn worth of trade, replacing the U.S. deal with Brussels.\n",
      "\n",
      "'The UK and the US are the strongest of trading partners and this agreement will allow British and American businesses to keep trading as freely as they do today, without additional bureaucracy,' said Mr Fox.\n",
      "\n",
      "Good Morning Britain host Piers Morgan also welcomed Trump's words, saying that if the President delivered on the promise 'this is clearly very good news'.\n",
      "\n",
      "Washington's ambassador in Britain Woody Johnson welcomed the news saying it would be 'great for jobs and prosperity on both sides of the Atlantic'\n",
      "\n",
      "In 2016 President Barack Obama, pictured in London in April that year, warned Britain would be at the 'back of the queue' for a trade deal\n",
      "\n",
      "Brexiteers have long hoped that Britain's departure would allow for beneficial trade deals unencumbered by EU rules.\n",
      "\n",
      "But Trump's America First agenda has seen him hike tariffs and tear up international agreements.\n",
      "\n",
      "Speaking about China in the same press conference today he said: 'I happen to like tariffs'.\n",
      "\n",
      "After Mrs May unveiled her Brexit withdrawal agreement last year Trump warned the PM to 'do something' about the trading terms.\n",
      "\n",
      "'Right now, if you look at the deal, they may not be able to trade with us. And that wouldn't be a good thing,' he said last November.\n",
      "\n",
      "In July he said her Brexit plan could 'kill' any UK-US trade deal because Britain would remain so closely aligned to the European Union.\n",
      "\n",
      "Trump's predecessor, former President Barack Obama, had famously warned a post-Brexit Britain would be at the 'back of the queue' for a trade deal with Washington.\n",
      "\n",
      "Last week Liam Fox's trade department admitted that the 40 free trade deals the minister promised to have ready by Brexit day are 'unlikely' to materialise.\n"
     ]
    }
   ],
   "source": [
    "from newspaper import Article\n",
    "\n",
    "url = 'https://www.dailymail.co.uk/news/article-6709529/Donald-Trump-says-trade-Britain-increase-substantially.html'\n",
    "article = Article(url)\n",
    "article.download()\n",
    "article.parse()\n",
    "\n",
    "print(article.text)"
   ]
  },
  {
   "cell_type": "code",
   "execution_count": 2,
   "metadata": {},
   "outputs": [
    {
     "ename": "ModuleNotFoundError",
     "evalue": "No module named 'feedparser'",
     "traceback": [
      "\u001b[0;31m---------------------------------------------------------------------------\u001b[0m",
      "\u001b[0;31mModuleNotFoundError\u001b[0m                       Traceback (most recent call last)",
      "\u001b[0;32m<ipython-input-2-9c3e424456f6>\u001b[0m in \u001b[0;36m<module>\u001b[0;34m\u001b[0m\n\u001b[0;32m----> 1\u001b[0;31m \u001b[0;32mimport\u001b[0m \u001b[0mfeedparser\u001b[0m\u001b[0;34m\u001b[0m\u001b[0;34m\u001b[0m\u001b[0m\n\u001b[0m\u001b[1;32m      2\u001b[0m \u001b[0;34m\u001b[0m\u001b[0m\n\u001b[1;32m      3\u001b[0m \u001b[0mfeed\u001b[0m \u001b[0;34m=\u001b[0m \u001b[0mfeedparser\u001b[0m\u001b[0;34m.\u001b[0m\u001b[0mparse\u001b[0m\u001b[0;34m(\u001b[0m\u001b[0;34m\"http://feeds.feedburner.com/TechCrunch/\"\u001b[0m\u001b[0;34m)\u001b[0m\u001b[0;34m\u001b[0m\u001b[0;34m\u001b[0m\u001b[0m\n\u001b[1;32m      4\u001b[0m \u001b[0;34m\u001b[0m\u001b[0m\n\u001b[1;32m      5\u001b[0m \u001b[0mfeed_title\u001b[0m \u001b[0;34m=\u001b[0m \u001b[0mfeed\u001b[0m\u001b[0;34m[\u001b[0m\u001b[0;34m'feed'\u001b[0m\u001b[0;34m]\u001b[0m\u001b[0;34m[\u001b[0m\u001b[0;34m'title'\u001b[0m\u001b[0;34m]\u001b[0m\u001b[0;34m\u001b[0m\u001b[0;34m\u001b[0m\u001b[0m\n",
      "\u001b[0;31mModuleNotFoundError\u001b[0m: No module named 'feedparser'"
     ],
     "output_type": "error"
    }
   ],
   "source": [
    "import feedparser\n",
    "\n",
    "feed = feedparser.parse(\"http://feeds.feedburner.com/TechCrunch/\")\n",
    "\n",
    "feed_title = feed['feed']['title']\n",
    "feed_entries = feed.entries\n",
    "\n",
    "for entry in feed.entries:\n",
    "    article_title = entry.title\n",
    "    article_link = entry.link\n",
    "    article_published_at = entry.published # Unicode string\n",
    "    article_published_at_parsed = entry.published_parsed # Time object\n",
    "    article_author = entry.author\n",
    "    print(\"{}[{}]\".format(article_title, article_link))\n",
    "    print(\"Published at {}\".format(article_published_at))\n",
    "    print(\"Published by {}\".format(article_author))"
   ]
  },
  {
   "cell_type": "code",
   "execution_count": null,
   "metadata": {
    "collapsed": true
   },
   "outputs": [],
   "source": []
  }
 ],
 "metadata": {
  "kernelspec": {
   "display_name": "Python 3",
   "language": "python",
   "name": "python3"
  },
  "language_info": {
   "codemirror_mode": {
    "name": "ipython",
    "version": 3
   },
   "file_extension": ".py",
   "mimetype": "text/x-python",
   "name": "python",
   "nbconvert_exporter": "python",
   "pygments_lexer": "ipython3",
   "version": "3.6.3"
  }
 },
 "nbformat": 4,
 "nbformat_minor": 2
}
